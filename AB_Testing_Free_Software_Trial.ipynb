{
 "cells": [
  {
   "cell_type": "markdown",
   "metadata": {},
   "source": [
    "## A/B Testing to Validate Free Software Advertising Trial\n",
    "\n",
    "## Table of Contents\n",
    "- [Introduction](#intro)\n",
    "- [Part I - Import Data](#data)\n",
    "- [Part II - Check validity of Experiment Length](#ExpLength)\n",
    "- [Part III - Verify Invariant Metric for Valid Test](#InvariantMetric)\n",
    "- [Part IV - Check for Significance in Evaluation Metric](#EvalMetric)\n",
    "- [Part V - Conclusion](#Conc)"
   ]
  },
  {
   "cell_type": "markdown",
   "metadata": {},
   "source": [
    "<a id='intro'></a>\n",
    "### Introduction\n",
    "\n",
    "The aim of this project is to investigate an advertising strategy of an e-commerce website to determine whether a new call to action (CTA) of a 7-day free software trial resulted in an increased software download rate (Downloads / Cookies (Unique Users) and increased License Sign Up Rate (Licenses / Cookies). The ultimate aim for the company was to increase revenue from Software Sales License Sales.\n",
    "\n",
    "Business metrics for the trial were based on a proportion of users converted (Downloadin software or purhcasing license) rather than an absolute number. This was to normalize for slightly different volumes of traffic between the test groups.\n",
    "\n",
    "* Download Rate (Downloads / Cookies (Unique Users)) \n",
    "* License Rate (Licenses / Cookies)\n",
    "\n",
    "Some considerations\n",
    "\n",
    "- License Rate may lag implementation by a period of 7-days because users are likely to get full value from the free trial.\n",
    "- Dividing the users by cookies is ineffective if they choose to use incognito mode or a different browser."
   ]
  },
  {
   "cell_type": "markdown",
   "metadata": {},
   "source": [
    "<a id='data'></a>\n",
    "#### Part I - Import Data"
   ]
  },
  {
   "cell_type": "code",
   "execution_count": 1,
   "metadata": {},
   "outputs": [],
   "source": [
    "# Import necessary libraries\n",
    "import pandas as pd\n",
    "import numpy as np\n",
    "import matplotlib.pyplot as plt\n",
    "import scipy.stats as stats\n",
    "%matplotlib inline"
   ]
  },
  {
   "cell_type": "code",
   "execution_count": 2,
   "metadata": {},
   "outputs": [],
   "source": [
    "df = pd.read_csv('homepage-experiment-data.csv')"
   ]
  },
  {
   "cell_type": "code",
   "execution_count": 3,
   "metadata": {},
   "outputs": [
    {
     "data": {
      "text/html": [
       "<div>\n",
       "<style scoped>\n",
       "    .dataframe tbody tr th:only-of-type {\n",
       "        vertical-align: middle;\n",
       "    }\n",
       "\n",
       "    .dataframe tbody tr th {\n",
       "        vertical-align: top;\n",
       "    }\n",
       "\n",
       "    .dataframe thead th {\n",
       "        text-align: right;\n",
       "    }\n",
       "</style>\n",
       "<table border=\"1\" class=\"dataframe\">\n",
       "  <thead>\n",
       "    <tr style=\"text-align: right;\">\n",
       "      <th></th>\n",
       "      <th>Day</th>\n",
       "      <th>Control Cookies</th>\n",
       "      <th>Control Downloads</th>\n",
       "      <th>Control Licenses</th>\n",
       "      <th>Experiment Cookies</th>\n",
       "      <th>Experiment Downloads</th>\n",
       "      <th>Experiment Licenses</th>\n",
       "    </tr>\n",
       "  </thead>\n",
       "  <tbody>\n",
       "    <tr>\n",
       "      <th>0</th>\n",
       "      <td>1</td>\n",
       "      <td>1764</td>\n",
       "      <td>246</td>\n",
       "      <td>1</td>\n",
       "      <td>1850</td>\n",
       "      <td>339</td>\n",
       "      <td>3</td>\n",
       "    </tr>\n",
       "    <tr>\n",
       "      <th>1</th>\n",
       "      <td>2</td>\n",
       "      <td>1541</td>\n",
       "      <td>234</td>\n",
       "      <td>2</td>\n",
       "      <td>1590</td>\n",
       "      <td>281</td>\n",
       "      <td>2</td>\n",
       "    </tr>\n",
       "    <tr>\n",
       "      <th>2</th>\n",
       "      <td>3</td>\n",
       "      <td>1457</td>\n",
       "      <td>240</td>\n",
       "      <td>1</td>\n",
       "      <td>1515</td>\n",
       "      <td>274</td>\n",
       "      <td>1</td>\n",
       "    </tr>\n",
       "    <tr>\n",
       "      <th>3</th>\n",
       "      <td>4</td>\n",
       "      <td>1587</td>\n",
       "      <td>224</td>\n",
       "      <td>1</td>\n",
       "      <td>1541</td>\n",
       "      <td>284</td>\n",
       "      <td>2</td>\n",
       "    </tr>\n",
       "    <tr>\n",
       "      <th>4</th>\n",
       "      <td>5</td>\n",
       "      <td>1606</td>\n",
       "      <td>253</td>\n",
       "      <td>2</td>\n",
       "      <td>1643</td>\n",
       "      <td>292</td>\n",
       "      <td>3</td>\n",
       "    </tr>\n",
       "  </tbody>\n",
       "</table>\n",
       "</div>"
      ],
      "text/plain": [
       "   Day  Control Cookies  Control Downloads  Control Licenses  \\\n",
       "0    1             1764                246                 1   \n",
       "1    2             1541                234                 2   \n",
       "2    3             1457                240                 1   \n",
       "3    4             1587                224                 1   \n",
       "4    5             1606                253                 2   \n",
       "\n",
       "   Experiment Cookies  Experiment Downloads  Experiment Licenses  \n",
       "0                1850                   339                    3  \n",
       "1                1590                   281                    2  \n",
       "2                1515                   274                    1  \n",
       "3                1541                   284                    2  \n",
       "4                1643                   292                    3  "
      ]
     },
     "execution_count": 3,
     "metadata": {},
     "output_type": "execute_result"
    }
   ],
   "source": [
    "df.head()"
   ]
  },
  {
   "cell_type": "code",
   "execution_count": 4,
   "metadata": {},
   "outputs": [
    {
     "data": {
      "text/plain": [
       "(29, 7)"
      ]
     },
     "execution_count": 4,
     "metadata": {},
     "output_type": "execute_result"
    }
   ],
   "source": [
    "# 29 days of data\n",
    "df.shape"
   ]
  },
  {
   "cell_type": "code",
   "execution_count": 5,
   "metadata": {},
   "outputs": [],
   "source": [
    "#Clean up column names\n",
    "df.columns = [item.replace(' ','_') for item in df.columns]"
   ]
  },
  {
   "cell_type": "code",
   "execution_count": 78,
   "metadata": {},
   "outputs": [],
   "source": [
    "ctrl_bins = np.arange(df.Control_Cookies.min(), df.Control_Cookies.max(), 10)\n",
    "exp_bins = np.arange(df.Experiment_Cookies.min(), df.Experiment_Cookies.max(), 10)"
   ]
  },
  {
   "cell_type": "code",
   "execution_count": 79,
   "metadata": {},
   "outputs": [
    {
     "data": {
      "image/png": "[encoded data removed]",
      "text/plain": [
       "<Figure size 864x432 with 1 Axes>"
      ]
     },
     "metadata": {
      "needs_background": "light"
     },
     "output_type": "display_data"
    }
   ],
   "source": [
    "#Plot Raw Data\n",
    "fig, ax = plt.subplots(figsize=[12,6])\n",
    "\n",
    "ax.hist(df.Control_Cookies, alpha=0.5, color='b',label='Control', bins=ctrl_bins)\n",
    "ax.hist(df.Experiment_Cookies, alpha=0.5, color='r',label='Experiment', bins=exp_bins)\n",
    "plt.title('Histogram of Control and Experiment Landing Page Traffice')\n",
    "plt.legend(loc='best');"
   ]
  },
  {
   "cell_type": "markdown",
   "metadata": {},
   "source": [
    "**The data collected does not follow a normal distribution.**"
   ]
  },
  {
   "cell_type": "markdown",
   "metadata": {},
   "source": [
    "<a id='ExpLength'></a>\n",
    "#### Part II - Check validity of Experiment Length"
   ]
  },
  {
   "cell_type": "markdown",
   "metadata": {},
   "source": [
    "Check that this experiment has been run for long enough\n",
    "\n",
    "We are ensuring that an adequate number of samples have been taken to ensure we don't commit a Type I error below a threshold of 5% and we have a Statistical Power of at least 80%."
   ]
  },
  {
   "cell_type": "code",
   "execution_count": 7,
   "metadata": {},
   "outputs": [],
   "source": [
    "def experiment_size(p_null, p_alt, alpha = .05, beta = .20):\n",
    "    \"\"\"\n",
    "    Compute the minimum number of samples needed to achieve a desired power\n",
    "    level for a given effect size.\n",
    "    \n",
    "    Input parameters:\n",
    "        p_null: base success rate under null hypothesis\n",
    "        p_alt : desired success rate to be detected\n",
    "        alpha : Type-I error rate\n",
    "        beta  : Type-II error rate\n",
    "    \n",
    "    Output value:\n",
    "        n : Number of samples required for each group to obtain desired power\n",
    "    \"\"\"\n",
    "    \n",
    "    # Get necessary z-scores and standard deviations (@ 1 obs per group)\n",
    "    z_null = stats.norm.ppf(1-alpha)\n",
    "    z_alt  = stats.norm.ppf(beta)\n",
    "    sd_null = np.sqrt(2*p_null*(1-p_null))\n",
    "    sd_alt  = np.sqrt(p_null*(1-p_null) + p_alt*(1-p_alt))\n",
    "    \n",
    "    # Compute and return minimum sample size\n",
    "    diff = p_alt - p_null\n",
    "    n =  ((z_null*sd_null - z_alt*sd_alt)/diff)**2\n",
    "    \n",
    "    #Create Distributions based on necessary number of trials\n",
    "    se_null = np.sqrt((p_null*(1-p_null) + p_null*(1-p_null))/n)\n",
    "    null_dist = stats.norm(loc=0, scale=se_null)\n",
    "    p_crit = null_dist.ppf(1-alpha)\n",
    "    \n",
    "    se_alt = np.sqrt((p_null*(1-p_null) + p_alt*(1-p_alt))/n)\n",
    "    alt_dist = stats.norm(loc=p_alt-p_null, scale=se_alt)\n",
    "    #beta = alt_dist.cdf(p_crit)\n",
    "    \n",
    "    # Compute distribution heights\n",
    "    low_bound = null_dist.ppf(.01)\n",
    "    high_bound = alt_dist.ppf(.99)\n",
    "    x = np.linspace(low_bound, high_bound, 201)\n",
    "    y_null = null_dist.pdf(x)\n",
    "    y_alt = alt_dist.pdf(x)\n",
    "\n",
    "    # Plot the distributions\n",
    "    plt.plot(x, y_null)\n",
    "    plt.plot(x, y_alt)\n",
    "    plt.vlines(p_crit, 0, np.amax([null_dist.pdf(p_crit), alt_dist.pdf(p_crit)]),\n",
    "               linestyles = '--')\n",
    "    plt.fill_between(x, y_null, 0, where = (x >= p_crit), alpha = .5)\n",
    "    plt.fill_between(x, y_alt , 0, where = (x <= p_crit), alpha = .5)\n",
    "\n",
    "    plt.legend(['null','alt'])\n",
    "    plt.xlabel('difference')\n",
    "    plt.ylabel('density')\n",
    "    plt.show()\n",
    "    \n",
    "    return np.ceil(n)"
   ]
  },
  {
   "cell_type": "markdown",
   "metadata": {},
   "source": [
    "On average this website receives about 3250 unique visitors per day. Therefore, in order to accurately test both the Download and the License Experiments we would require at least 21 days. The experiment has been run for 29 days which is acceptable.\n",
    "\n",
    "Seven of those days will not be a valid metric for measuring licenses because the trial period last 7 days and the benefit will only be realised after that period."
   ]
  },
  {
   "cell_type": "code",
   "execution_count": 8,
   "metadata": {},
   "outputs": [
    {
     "data": {
      "image/png": "[encoded data removed]",
      "text/plain": [
       "<Figure size 432x288 with 1 Axes>"
      ]
     },
     "metadata": {
      "needs_background": "light"
     },
     "output_type": "display_data"
    }
   ],
   "source": [
    "#Min experiment size for Downloads Metric\n",
    "# 2 * because there are two experiments\n",
    "dl_min_days = 2*experiment_size(0.16,0.175,alpha=0.025,beta=0.2)/3250"
   ]
  },
  {
   "cell_type": "code",
   "execution_count": 9,
   "metadata": {},
   "outputs": [
    {
     "data": {
      "image/png": "[encoded data removed]",
      "text/plain": [
       "<Figure size 432x288 with 1 Axes>"
      ]
     },
     "metadata": {
      "needs_background": "light"
     },
     "output_type": "display_data"
    }
   ],
   "source": [
    "#Min experiment size for License Metric\n",
    "lic_min_days = 2*experiment_size(0.02,0.023,alpha=0.025,beta=0.2)/3250"
   ]
  },
  {
   "cell_type": "code",
   "execution_count": 10,
   "metadata": {},
   "outputs": [
    {
     "name": "stdout",
     "output_type": "stream",
     "text": [
      "The minimum number of days required is 21\n"
     ]
    }
   ],
   "source": [
    "print(f'The minimum number of days required is {int(max(dl_min_days,lic_min_days))}')"
   ]
  },
  {
   "cell_type": "markdown",
   "metadata": {},
   "source": [
    "<a id='InvariantMetric'></a>\n",
    "#### Part III - Verify Invariant Metric for Valid Test\n",
    "\n",
    "The experiment was carried out over 29 days, the results are plotted in the histogram above and show that the data does not appear to be normally distributed.\n",
    "\n",
    "To resolve, this we shall bootstrap the sample data with replacement to estimate the mean and standard deviation of the population. This will enable us to conduct our A/B testing.\n",
    "\n",
    "We shall then check to see if there is a statistically significant difference between the number of Cookie on the Control and Experiment landing pages"
   ]
  },
  {
   "cell_type": "code",
   "execution_count": 11,
   "metadata": {},
   "outputs": [],
   "source": [
    "# Bootstrap the aquired data from test period over 10000 trials\n",
    "ntrials = 10000\n",
    "\n",
    "stdvals = []\n",
    "meanvals = []\n",
    "for i in range(ntrials): \n",
    "    sample = np.random.choice(df.Control_Cookies,29)\n",
    "    meanvals.append(np.mean(sample))\n",
    "    stdvals.append(np.std(sample))\n",
    "\n",
    "# Control case mean and std\n",
    "mu = np.mean(meanvals)\n",
    "sd = np.mean(stdvals)"
   ]
  },
  {
   "cell_type": "code",
   "execution_count": 14,
   "metadata": {},
   "outputs": [
    {
     "data": {
      "image/png": "[encoded data removed]",
      "text/plain": [
       "<Figure size 432x288 with 1 Axes>"
      ]
     },
     "metadata": {
      "needs_background": "light"
     },
     "output_type": "display_data"
    }
   ],
   "source": [
    "# Plot Bootstrapped Distribution of Control\n",
    "plt.hist(meanvals)\n",
    "plt.axvline(mu,label='$\\mu = {:.5}$'.format(mu),color='red')\n",
    "plt.title(f'Mean of Dist {mu:.2f}')\n",
    "plt.xlabel('Total Homepage Visits');"
   ]
  },
  {
   "cell_type": "code",
   "execution_count": 15,
   "metadata": {},
   "outputs": [
    {
     "data": {
      "image/png": "[encoded data removed]",
      "text/plain": [
       "<Figure size 432x288 with 1 Axes>"
      ]
     },
     "metadata": {
      "needs_background": "light"
     },
     "output_type": "display_data"
    }
   ],
   "source": [
    "# Repeat process for experiment data\n",
    "stdvals_exp = []\n",
    "meanvals_exp = []\n",
    "for i in range(ntrials): \n",
    "    sample = np.random.choice(df.Experiment_Cookies,29)\n",
    "    meanvals_exp.append(np.mean(sample))\n",
    "    stdvals_exp.append(np.std(sample))\n",
    "\n",
    "mu_exp = np.mean(meanvals_exp)\n",
    "sd_exp = np.mean(stdvals_exp)\n",
    "\n",
    "plt.hist(meanvals_exp)\n",
    "plt.axvline(mu_exp,label='$\\mu = {:.5}$'.format(mu_exp),color='red')\n",
    "plt.title(f'Mean of Dist Exp {mu_exp:.2f}')\n",
    "plt.xlabel('Total HomePage Visits');"
   ]
  },
  {
   "cell_type": "code",
   "execution_count": 16,
   "metadata": {},
   "outputs": [
    {
     "data": {
      "image/png": "[encoded data removed]",
      "text/plain": [
       "<Figure size 432x288 with 1 Axes>"
      ]
     },
     "metadata": {
      "needs_background": "light"
     },
     "output_type": "display_data"
    }
   ],
   "source": [
    "# Compare the distributions\n",
    "null_dist = stats.norm(loc=mu,scale=sd)\n",
    "alt_dist = stats.norm(loc=mu_exp, scale = sd_exp)\n",
    "\n",
    "# Compute distribution heights\n",
    "low_bound = null_dist.ppf(.01)\n",
    "high_bound = alt_dist.ppf(.99)\n",
    "x = np.linspace(low_bound, high_bound, 201)\n",
    "y_null = null_dist.pdf(x)\n",
    "y_alt = alt_dist.pdf(x)\n",
    "\n",
    "p_crit = mu_exp\n",
    "\n",
    "# Plot the distributions\n",
    "plt.plot(x, y_null)\n",
    "plt.plot(x, y_alt)\n",
    "plt.vlines(p_crit, 0, np.amax([null_dist.pdf(p_crit), alt_dist.pdf(p_crit)]),\n",
    "           linestyles = '--')\n",
    "plt.fill_between(x, y_null, 0, where = (x >= p_crit), alpha = .5)\n",
    "plt.fill_between(x, y_alt , 0, where = (x <= p_crit), alpha = .5)\n",
    "\n",
    "plt.legend(['Control','Experiment'])\n",
    "plt.xlabel('Total HomePage Visits')\n",
    "plt.ylabel('density')\n",
    "plt.show()"
   ]
  },
  {
   "cell_type": "code",
   "execution_count": 17,
   "metadata": {},
   "outputs": [
    {
     "name": "stdout",
     "output_type": "stream",
     "text": [
      "Mean of Experiment would have to be <= 1396.40, or >= 1835.13 to provide certainty of being from a different distribution with alpha = 0.05\n"
     ]
    }
   ],
   "source": [
    "pcrit_max = null_dist.ppf(1-0.025)\n",
    "pcrit_min = null_dist.ppf(0.025)\n",
    "print(f'Mean of Experiment would have to be <= {pcrit_min:.2f}, or >= {pcrit_max:.2f} to provide certainty of being from a different distribution with alpha = 0.05')"
   ]
  },
  {
   "cell_type": "markdown",
   "metadata": {},
   "source": [
    "It is evident that there is a slight increase in traffic in the Experiment dataset approx 1%, but this is not statistically significant and there is insufficient data to suggest that the experiment is leading to higher traffic on the original home page.\n",
    "\n",
    "Now that the Invariant Metric has been assessed and deemed acceptable, we can now investigate the Evaluation Metrics."
   ]
  },
  {
   "cell_type": "markdown",
   "metadata": {},
   "source": [
    "We could also perform a Welch T-Test on the results. Welch T-Test is a more robust comparison than the students T-Test because it allows for:\n",
    "\n",
    "- Different Sample Sizes in Null and Alt grounds\n",
    "- Different variance in groups\n",
    "\n",
    "Using only emperical data:"
   ]
  },
  {
   "cell_type": "code",
   "execution_count": 51,
   "metadata": {},
   "outputs": [
    {
     "data": {
      "text/plain": [
       "Ttest_indResult(statistic=0.5667703149522242, pvalue=0.5731350217922668)"
      ]
     },
     "execution_count": 51,
     "metadata": {},
     "output_type": "execute_result"
    }
   ],
   "source": [
    "# Scipy Welch T-Test - Two sided - Checking for any differing effect on the landing page\n",
    "stats.ttest_ind_from_stats(df.Experiment_Cookies.mean(),df.Experiment_Cookies.std(), df.Experiment_Cookies.shape[0],\n",
    "        df.Control_Cookies.mean(), df.Control_Cookies.std(), df.Control_Cookies.shape[0])"
   ]
  },
  {
   "cell_type": "markdown",
   "metadata": {},
   "source": [
    "<a id='EvalMetric'></a>\n",
    "#### Part IV - Check for Significance in Evaluation Metric"
   ]
  },
  {
   "cell_type": "code",
   "execution_count": 26,
   "metadata": {},
   "outputs": [],
   "source": [
    "df['Control_DR'] = df['Control_Downloads']/df['Control_Cookies']\n",
    "df['Control_LR'] = df['Control_Licenses']/df['Control_Cookies']\n",
    "\n",
    "df['Experiment_DR'] = df['Experiment_Downloads']/df['Experiment_Cookies']\n",
    "df['Experiment_LR'] = df['Experiment_Licenses']/df['Experiment_Cookies']"
   ]
  },
  {
   "cell_type": "code",
   "execution_count": 83,
   "metadata": {},
   "outputs": [],
   "source": [
    "# Bootstrap the acquired data for Control Downloads\n",
    "ntrials = 10000\n",
    "\n",
    "stdvals = []\n",
    "meanvals = []\n",
    "for i in range(ntrials): \n",
    "    sample = np.random.choice(df.Control_DR,29)\n",
    "    meanvals.append(np.mean(sample))\n",
    "    stdvals.append(np.std(sample))\n",
    "\n",
    "# Control case mean and std\n",
    "mu_dl_control = np.mean(meanvals)\n",
    "sd_dl_control = np.mean(stdvals)"
   ]
  },
  {
   "cell_type": "code",
   "execution_count": 86,
   "metadata": {},
   "outputs": [],
   "source": [
    "# Repeat Bootstrap for Experiment\n",
    "stdvals = []\n",
    "meanvals = []\n",
    "for i in range(ntrials): \n",
    "    sample = np.random.choice(df.Experiment_DR,29)\n",
    "    meanvals.append(np.mean(sample))\n",
    "    stdvals.append(np.std(sample))\n",
    "\n",
    "# Control case mean and std\n",
    "mu_dl_exp = np.mean(meanvals)\n",
    "sd_dl_exp = np.mean(stdvals)"
   ]
  },
  {
   "cell_type": "code",
   "execution_count": 87,
   "metadata": {},
   "outputs": [
    {
     "data": {
      "image/png": "[encoded data removed]",
      "text/plain": [
       "<Figure size 432x288 with 1 Axes>"
      ]
     },
     "metadata": {
      "needs_background": "light"
     },
     "output_type": "display_data"
    }
   ],
   "source": [
    "# Compare the distributions\n",
    "null_dist = stats.norm(loc=mu_dl_control,scale=st_dl_control)\n",
    "alt_dist = stats.norm(loc=mu_dl_exp, scale = st_dl_exp)\n",
    "\n",
    "# Compute distribution heights\n",
    "low_bound = null_dist.ppf(.01)\n",
    "high_bound = alt_dist.ppf(.99)\n",
    "x = np.linspace(low_bound, high_bound, 201)\n",
    "y_null = null_dist.pdf(x)\n",
    "y_alt = alt_dist.pdf(x)\n",
    "\n",
    "p_crit = mu_dl_exp\n",
    "\n",
    "# Plot the distributions\n",
    "plt.plot(x, y_null)\n",
    "plt.plot(x, y_alt)\n",
    "plt.vlines(p_crit, 0, np.amax([null_dist.pdf(p_crit), alt_dist.pdf(p_crit)]),\n",
    "           linestyles = '--')\n",
    "plt.fill_between(x, y_null, 0, where = (x >= p_crit), alpha = .25)\n",
    "plt.fill_between(x, y_alt , 0, where = (x <= p_crit), alpha = .25)\n",
    "\n",
    "plt.legend(['Control','Experiment'])\n",
    "plt.xlabel('difference')\n",
    "plt.ylabel('density')\n",
    "plt.show()"
   ]
  },
  {
   "cell_type": "code",
   "execution_count": 88,
   "metadata": {},
   "outputs": [
    {
     "name": "stdout",
     "output_type": "stream",
     "text": [
      "Statistical Power of Experiment 0.50\n"
     ]
    }
   ],
   "source": [
    "print(f'Statistical Power of Experiment {alt_dist.cdf(mu_dl_exp):.2f}')"
   ]
  },
  {
   "cell_type": "code",
   "execution_count": 89,
   "metadata": {},
   "outputs": [
    {
     "name": "stdout",
     "output_type": "stream",
     "text": [
      "The likelihood of obtaining a mean conversion rate of 0.18% from the Null is 3.35%\n"
     ]
    }
   ],
   "source": [
    "print(f'The likelihood of obtaining a mean conversion rate of 0.18% from the Null is {null_dist.sf(mu_dl_exp)*100:.2f}%')"
   ]
  },
  {
   "cell_type": "markdown",
   "metadata": {},
   "source": [
    "The Experiment does seem to indicate a higher conversion rate for downloads, however, the statistical power of this statement is low at 50%.\n",
    "\n",
    "However, there is less than 5% chance that this conversion rate would be observed during the Control Experiment."
   ]
  },
  {
   "cell_type": "code",
   "execution_count": 57,
   "metadata": {},
   "outputs": [
    {
     "data": {
      "text/plain": [
       "Ttest_indResult(statistic=7.3912585334754715, pvalue=7.807267675005538e-10)"
      ]
     },
     "execution_count": 57,
     "metadata": {},
     "output_type": "execute_result"
    }
   ],
   "source": [
    "# Check P-Value with Welch TTest\n",
    "stats.ttest_ind_from_stats(\n",
    "    df.Experiment_DR.mean(), df.Experiment_DR.std(), df.Experiment_DR.shape[0],\n",
    "    df.Control_DR.mean(), df.Control_DR.std(), df.Control_DR.shape[0]\n",
    ")"
   ]
  },
  {
   "cell_type": "markdown",
   "metadata": {},
   "source": [
    "Welch T-test reaffirms the above results. Evidence from the trial would be sufficient to **Reject the Null**"
   ]
  },
  {
   "cell_type": "code",
   "execution_count": 90,
   "metadata": {},
   "outputs": [],
   "source": [
    "# Bootstrap the acquired data for Control Licenses\n",
    "stdvals = []\n",
    "meanvals = []\n",
    "for i in range(ntrials): \n",
    "    sample = np.random.choice(df.Control_LR,29)\n",
    "    meanvals.append(np.mean(sample))\n",
    "    stdvals.append(np.std(sample))\n",
    "\n",
    "# Control case mean and std\n",
    "mu_l_control = np.mean(meanvals)\n",
    "sd_l_control = np.mean(stdvals)"
   ]
  },
  {
   "cell_type": "code",
   "execution_count": 91,
   "metadata": {},
   "outputs": [],
   "source": [
    "# Bootstrap the acquired data for Experiment Licenses\n",
    "stdvals = []\n",
    "meanvals = []\n",
    "for i in range(ntrials): \n",
    "    sample = np.random.choice(df.Experiment_LR,29)\n",
    "    meanvals.append(np.mean(sample))\n",
    "    stdvals.append(np.std(sample))\n",
    "\n",
    "# Control case mean and std\n",
    "mu_l_exp = np.mean(meanvals)\n",
    "sd_l_exp = np.mean(stdvals)"
   ]
  },
  {
   "cell_type": "code",
   "execution_count": 93,
   "metadata": {},
   "outputs": [
    {
     "data": {
      "image/png": "[encoded data removed]",
      "text/plain": [
       "<Figure size 432x288 with 1 Axes>"
      ]
     },
     "metadata": {
      "needs_background": "light"
     },
     "output_type": "display_data"
    }
   ],
   "source": [
    "# Compare the distributions\n",
    "null_dist = stats.norm(loc=mu_l_control,scale=sd_l_control)\n",
    "alt_dist = stats.norm(loc=mu_l_exp, scale = sd_l_exp)\n",
    "\n",
    "# Compute distribution heights\n",
    "low_bound = null_dist.ppf(.01)\n",
    "high_bound = alt_dist.ppf(.99)\n",
    "x = np.linspace(low_bound, high_bound, 201)\n",
    "y_null = null_dist.pdf(x)\n",
    "y_alt = alt_dist.pdf(x)\n",
    "\n",
    "p_crit = mu_l_exp\n",
    "\n",
    "# Plot the distributions\n",
    "plt.plot(x, y_null)\n",
    "plt.plot(x, y_alt)\n",
    "plt.vlines(p_crit, 0, np.amax([null_dist.pdf(p_crit), alt_dist.pdf(p_crit)]),\n",
    "           linestyles = '--')\n",
    "plt.fill_between(x, y_null, 0, where = (x >= p_crit), alpha = .25)\n",
    "plt.fill_between(x, y_alt , 0, where = (x <= p_crit), alpha = .25)\n",
    "\n",
    "plt.legend(['Control','Experiment'])\n",
    "plt.xlabel('difference')\n",
    "plt.ylabel('density')\n",
    "plt.show()"
   ]
  },
  {
   "cell_type": "code",
   "execution_count": 94,
   "metadata": {},
   "outputs": [
    {
     "data": {
      "text/plain": [
       "Ttest_indResult(statistic=0.16456042063941873, pvalue=0.8698825444862426)"
      ]
     },
     "execution_count": 94,
     "metadata": {},
     "output_type": "execute_result"
    }
   ],
   "source": [
    "# Check P-Value with Welch TTest\n",
    "stats.ttest_ind_from_stats(\n",
    "    df.Experiment_LR.mean(), df.Experiment_LR.std(), df.Experiment_LR.shape[0],\n",
    "    df.Control_LR.mean(), df.Control_LR.std(), df.Control_LR.shape[0]\n",
    ")"
   ]
  },
  {
   "cell_type": "markdown",
   "metadata": {},
   "source": [
    "Welch T-test reaffirms the above results. Evidence from the trial would be insufficient to **Reject the Null**\n",
    "\n",
    "There would be no evidence to suggest that increased advertisement of the free trial would increaese License Sign Up Rate."
   ]
  },
  {
   "cell_type": "markdown",
   "metadata": {},
   "source": [
    "<a id='Conc'></a>\n",
    "#### Conclusion"
   ]
  },
  {
   "cell_type": "markdown",
   "metadata": {},
   "source": [
    "The aim of this project was to investigate an advertising strategy of an e-commerce website to determine whether a new call to action (CTA) of a 7-day free software trial resulted in an increased software download rate (Downloads / Cookies (Unique Users) and increased License Sign Up Rate (Licenses / Cookies). The ultimate aim for the company was to increase revenue from Software Sales License Sales.\n",
    "\n",
    "The business metrics described above were normalized to prevent different website traffic impact the results between the test groups.\n",
    "\n",
    "An evaluation of the experiment concluded that it had be conducted for an appropriate length of time ( > 21 days) to measure an increase in download rate of 1.5% and increase in license sign up rate of 0.2%. The experiment was actually conducted over a 29 day period which is long enough to account for fluctuations in weekly and daily traffic and purchases.\n",
    "\n",
    "A check of the invariant metric (Traffic to both Control and Experiment landing pages) concluded that a fair test had been conducted. The average number of visitors to both the control and experiment were not statistically different, despite the new page having slightly (~1%) more traffic over the observation period.\n",
    "\n",
    "The 7-day free trial call to action conclusively demonstrated an increase in download rates, albeit small at +1.5% which equates to approximately 4 additional downloads per day, however it was unable to demonstrate a statistically significant difference in license purchases.\n",
    "\n",
    "This may be attributed to the fact that more users are simply downloading the software when they have no real desire/requirement to purchase the final product. Further data would need to be gathered on customers to fully justify this argument.\n"
   ]
  }
 ],
 "metadata": {
  "kernelspec": {
   "display_name": "Python 3",
   "language": "python",
   "name": "python3"
  },
  "language_info": {
   "codemirror_mode": {
    "name": "ipython",
    "version": 3
   },
   "file_extension": ".py",
   "mimetype": "text/x-python",
   "name": "python",
   "nbconvert_exporter": "python",
   "pygments_lexer": "ipython3",
   "version": "3.8.2"
  }
 },
 "nbformat": 4,
 "nbformat_minor": 4
}
